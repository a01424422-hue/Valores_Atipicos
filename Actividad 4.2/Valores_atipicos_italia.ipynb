{
 "cells": [
  {
   "cell_type": "markdown",
   "id": "cadf2d61",
   "metadata": {},
   "source": [
    "# NOTA: Tratamiento de valores atípicos en la base *Italia*\n",
    "\n",
    "### Identificación de *outliers*\n",
    " - **Método:** Visualización con diagramas de caja (*boxplots*) por cada columna numérica.\n",
    " - **Justificación:** Los *boxplots* muestran la distribución y señalan valores alejados del rango intercuartílico (IQR),\n",
    "   facilitando la detección visual de *outliers*.\n",
    "\n",
    " ---\n",
    "\n",
    " ### Exclusión de anfitriones atípicos\n",
    " - **Método:** Eliminación de registros con `id_anfitrion` en {2634978, 579781108, 321429178}.\n",
    " - **Justificación:** Estos anfitriones exhiben patrones extremos (p. ej., muchos listados o `noches_minimas = 999`),\n",
    "   lo que sesga el análisis y no representa el comportamiento típico del mercado.\n",
    "\n",
    " ---\n",
    "\n",
    "### Verificación de calificaciones\n",
    " - **Método:** Validación de que las variables de calificación (p. ej., `calif_total`, `calif_exactitud`, etc.) estén en el rango [0, 5].\n",
    " - **Justificación:** Las calificaciones están acotadas de forma natural, la verificación asegura integridad y evita registros mal capturados.\n",
    "\n",
    " ---\n",
    "\n",
    "### Exportación de registros excluidos\n",
    " - **Método:** Exportación de los registros filtrados a `anfitriones_outliers.csv`.\n",
    " - **Justificación:** Conserva los datos atípicos para análisis posterior o auditoría, sin afectar el dataset principal.\n"
   ]
  },
  {
   "cell_type": "code",
   "execution_count": 234,
   "id": "17719176",
   "metadata": {},
   "outputs": [],
   "source": [
    "# =========================\n",
    "# Importar librerías\n",
    "# =========================\n",
    "import pandas as pd\n",
    "import numpy as np\n",
    "import matplotlib.pyplot as plt\n",
    "from pathlib import Path"
   ]
  },
  {
   "cell_type": "code",
   "execution_count": 235,
   "id": "03a89b0d",
   "metadata": {},
   "outputs": [],
   "source": [
    "# ===========================================================\n",
    "# CARGA Y PREPARACIÓN\n",
    "# ============================================================\n",
    "df = pd.read_csv(\"italia_filtrado_es_sin_NAN.csv\")\n"
   ]
  },
  {
   "cell_type": "code",
   "execution_count": 236,
   "id": "ed1b01b7",
   "metadata": {},
   "outputs": [],
   "source": [
    "# =========================================================\n",
    "# IDs de los anfitriones a excluir\n",
    "# =========================================================\n",
    "anfitriones_excluidos = [2634978, 579781108, 321429178]"
   ]
  },
  {
   "cell_type": "code",
   "execution_count": 237,
   "id": "3431be3e",
   "metadata": {},
   "outputs": [],
   "source": [
    "# =========================================================\n",
    "# Identificar y manejar los valores sentinela\n",
    "# =========================================================\n",
    "sentinel_dict = {\n",
    "    'resenas_por_mes': -222,\n",
    "    'calif_total': -222,\n",
    "    'calif_exactitud': -222,\n",
    "    'calif_limpieza': -222,\n",
    "    'calif_checkin': -222,\n",
    "    'calif_comunicacion': -222,\n",
    "    'calif_ubicacion': -222,\n",
    "    'calif_valor': -222,\n",
    "    'tasa_respuesta_host': 222,\n",
    "    'tasa_aceptacion_host': 222\n",
    "}\n"
   ]
  },
  {
   "cell_type": "code",
   "execution_count": 238,
   "id": "79b82ae4",
   "metadata": {},
   "outputs": [
    {
     "name": "stdout",
     "output_type": "stream",
     "text": [
      "Diagramas de caja individuales guardados en la carpeta 'graficas_outliers' ✅\n"
     ]
    }
   ],
   "source": [
    "# ===========================================================\n",
    "# EXPLORACIÓN VISUAL DE OUTLIERS\n",
    "# ===========================================================\n",
    "# Crear una copia del DataFrame para esta sección\n",
    "df_temp = df.copy()\n",
    "\n",
    "# Manejar valores sentinela para la visualización\n",
    "for col, sentinel in sentinel_dict.items():\n",
    "    if col in df_temp.columns:\n",
    "        df_temp[col] = df_temp[col].replace(sentinel, np.nan)\n",
    "\n",
    "# Obtener las columnas numéricas\n",
    "numeric_cols = df_temp.select_dtypes(include=np.number).columns.tolist()\n",
    "\n",
    "# Crear la carpeta para guardar los gráficos si no existe\n",
    "folder_name = 'graficas_outliers'\n",
    "if not os.path.exists(folder_name):\n",
    "    os.makedirs(folder_name)\n",
    "    print(f\"Carpeta '{folder_name}' creada ✅\")\n",
    "\n",
    "# Generar y guardar un box plot individual para cada columna numérica\n",
    "plt.style.use('fivethirtyeight')\n",
    "for col in numeric_cols:\n",
    "    plt.figure(figsize=(10, 2))\n",
    "    df_temp[col].plot(kind='box', vert=False)\n",
    "    plt.title(f'Diagrama de caja de {col}', fontsize=12)\n",
    "    plt.tight_layout()\n",
    "    plt.savefig(f'{folder_name}/boxplot_{col}.png')\n",
    "    plt.close()\n",
    "\n",
    "print(f\"Diagramas de caja individuales guardados en la carpeta '{folder_name}' ✅\")"
   ]
  },
  {
   "cell_type": "code",
   "execution_count": 239,
   "id": "9404b354",
   "metadata": {},
   "outputs": [
    {
     "name": "stdout",
     "output_type": "stream",
     "text": [
      "\n",
      "Verificando que los valores de calificación estén entre 0 y 5:\n",
      "  - 'calif_total': Todos los valores están en el rango de 0 a 5. ✅\n",
      "  - 'calif_exactitud': Todos los valores están en el rango de 0 a 5. ✅\n",
      "  - 'calif_limpieza': Todos los valores están en el rango de 0 a 5. ✅\n",
      "  - 'calif_checkin': Todos los valores están en el rango de 0 a 5. ✅\n",
      "  - 'calif_comunicacion': Todos los valores están en el rango de 0 a 5. ✅\n",
      "  - 'calif_ubicacion': Todos los valores están en el rango de 0 a 5. ✅\n",
      "  - 'calif_valor': Todos los valores están en el rango de 0 a 5. ✅\n"
     ]
    }
   ],
   "source": [
    "# ===========================================================\n",
    "# VERIFICACIÓN DE RANGOS DE CALIFICACIÓN (0-5)\n",
    "# ===========================================================\n",
    "calif_cols = [\n",
    "    'calif_total', 'calif_exactitud', 'calif_limpieza', 'calif_checkin',\n",
    "    'calif_comunicacion', 'calif_ubicacion', 'calif_valor'\n",
    "]\n",
    "\n",
    "print(\"\\nVerificando que los valores de calificación estén entre 0 y 5:\")\n",
    "for col in calif_cols:\n",
    "    # Excluir los valores NaN para la verificación\n",
    "    valid_values = df_temp[col].dropna()\n",
    "    is_in_range = valid_values.between(0, 5).all()\n",
    "    if is_in_range:\n",
    "        print(f\"  - '{col}': Todos los valores están en el rango de 0 a 5. ✅\")\n",
    "    else:\n",
    "        print(f\"  - '{col}': ¡ATENCIÓN! Se encontraron valores fuera del rango de 0 a 5. ❌\")"
   ]
  },
  {
   "cell_type": "code",
   "execution_count": 240,
   "id": "d4dcf864",
   "metadata": {},
   "outputs": [],
   "source": [
    "# ===========================================================\n",
    "# Paso 1: Calcular estadísticas antes de excluir a los anfitriones\n",
    "# ===========================================================\n",
    "df_antes = df.copy()\n",
    "for col, sentinel in sentinel_dict.items():\n",
    "    if col in df_antes.columns:\n",
    "        df_antes[col] = df_antes[col].replace(sentinel, np.nan)\n",
    "\n",
    "numeric_cols_antes = df_antes.select_dtypes(include=np.number).columns.tolist()\n",
    "stats_antes = df_antes[numeric_cols_antes].agg(['min', 'mean', 'max'])\n"
   ]
  },
  {
   "cell_type": "code",
   "execution_count": 241,
   "id": "7c6a8180",
   "metadata": {},
   "outputs": [],
   "source": [
    "# ===========================================================\n",
    "# Paso 2: Excluir a los anfitriones y calcular estadísticas\n",
    "# ===========================================================\n",
    "df_despues = df[~df['id_anfitrion'].isin(anfitriones_excluidos)].copy()\n",
    "for col, sentinel in sentinel_dict.items():\n",
    "    if col in df_despues.columns:\n",
    "        df_despues[col] = df_despues[col].replace(sentinel, np.nan)\n",
    "\n",
    "numeric_cols_despues = df_despues.select_dtypes(include=np.number).columns.tolist()\n",
    "stats_despues = df_despues[numeric_cols_despues].agg(['min', 'mean', 'max'])\n"
   ]
  },
  {
   "cell_type": "code",
   "execution_count": 242,
   "id": "c722b7a4",
   "metadata": {},
   "outputs": [],
   "source": [
    "# ===========================================================\n",
    "# Paso 3: Exportar ambos conjuntos de estadísticas a un solo archivo de Excel\n",
    "# ===========================================================\n",
    "with pd.ExcelWriter('estadisticas_comparativas_doble.xlsx') as writer:\n",
    "    stats_antes.to_excel(writer, sheet_name='Estadisticas Antes de Excluir')\n",
    "    stats_despues.to_excel(writer, sheet_name='Estadisticas Despues de Excluir')"
   ]
  },
  {
   "cell_type": "code",
   "execution_count": 243,
   "id": "5ecf00b1",
   "metadata": {},
   "outputs": [
    {
     "name": "stdout",
     "output_type": "stream",
     "text": [
      "Registros de los anfitriones outliers exportados a 'anfitriones_outliers.csv' ✅\n"
     ]
    }
   ],
   "source": [
    "# ===========================================================\n",
    "# EXPORTAR REGISTROS DE ANFITRIONES EXCLUIDOS\n",
    "# ===========================================================\n",
    "# Filtrar el DataFrame para obtener solo los registros de los anfitriones excluidos\n",
    "df_outliers = df[df['id_anfitrion'].isin(anfitriones_excluidos)]\n",
    "\n",
    "# Exportar los registros filtrados a un nuevo archivo CSV\n",
    "df_outliers.to_csv('anfitriones_outliers.csv', index=False)\n",
    "\n",
    "print(\"Registros de los anfitriones outliers exportados a 'anfitriones_outliers.csv' ✅\")\n"
   ]
  },
  {
   "cell_type": "code",
   "execution_count": 244,
   "id": "81be8d76",
   "metadata": {},
   "outputs": [
    {
     "name": "stdout",
     "output_type": "stream",
     "text": [
      "Base de datos sin outliers exportada a 'italia_sin_outliers.csv' ✅\n"
     ]
    }
   ],
   "source": [
    "# ===========================================================\n",
    "# EXPORTAR BASE DE DATOS SIN OUTLIERS\n",
    "# ===========================================================\n",
    "# Filtrar el DataFrame para excluir los registros de los anfitriones atípicos\n",
    "df_sin_outliers = df[~df['id_anfitrion'].isin(anfitriones_excluidos)].copy()\n",
    "\n",
    "# Exportar el DataFrame limpio a un nuevo archivo CSV\n",
    "df_sin_outliers.to_csv('italia_sin_outliers.csv', index=False)\n",
    "\n",
    "print(\"Base de datos sin outliers exportada a 'italia_sin_outliers.csv' ✅\")"
   ]
  }
 ],
 "metadata": {
  "kernelspec": {
   "display_name": "Python 3",
   "language": "python",
   "name": "python3"
  },
  "language_info": {
   "codemirror_mode": {
    "name": "ipython",
    "version": 3
   },
   "file_extension": ".py",
   "mimetype": "text/x-python",
   "name": "python",
   "nbconvert_exporter": "python",
   "pygments_lexer": "ipython3",
   "version": "3.13.6"
  }
 },
 "nbformat": 4,
 "nbformat_minor": 5
}
