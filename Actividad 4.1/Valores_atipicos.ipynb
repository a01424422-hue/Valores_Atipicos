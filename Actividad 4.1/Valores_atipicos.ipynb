{
 "cells": [
  {
   "cell_type": "code",
   "execution_count": 39,
   "id": "44ff1389",
   "metadata": {},
   "outputs": [],
   "source": [
    "# =========================\n",
    "# Importar librerías\n",
    "# =========================\n",
    "import pandas as pd\n",
    "import numpy as np\n",
    "import matplotlib.pyplot as plt\n",
    "from pathlib import Path"
   ]
  },
  {
   "cell_type": "code",
   "execution_count": 40,
   "id": "507ea9ed",
   "metadata": {},
   "outputs": [],
   "source": [
    "# =========================\n",
    "# Config\n",
    "# =========================\n",
    "INPUT_CSV   = \"Ventas_totales_limpio.csv\"\n",
    "OUTPUT_IQR  = \"Ventas_sin_outliers_IQR.csv\"\n",
    "OUTPUT_STD  = \"Ventas_sin_outliers_STD.csv\"\n",
    "\n",
    "# Parámetros\n",
    "IQR_K       = 1.5   # 1.5 IQR clásico\n",
    "Z_THRESHOLD = 3.0   # 3 desviaciones estándar\n",
    "\n",
    "# Guardar gráficas\n",
    "GUARDAR_BOXPLOTS = True\n",
    "CARPETA_PLOT_INI = \"Boxplots_Antes\"\n",
    "CARPETA_PLOT_IQR = \"Boxplots_Después_IQR\"\n",
    "CARPETA_PLOT_STD = \"Boxplots_Después_STD\""
   ]
  },
  {
   "cell_type": "code",
   "execution_count": 41,
   "id": "a82b9df2",
   "metadata": {},
   "outputs": [
    {
     "name": "stdout",
     "output_type": "stream",
     "text": [
      "Filas: 65  |  Columnas numéricas: 23\n",
      "['ventas_precios_corrientes', 'ventas_precios_constantes', 'ventas_totales_canal_venta', 'salon_ventas', 'canales_on_line', 'ventas_totales_medio_pago', 'efectivo', 'tarjetas_debito', 'tarjetas_credito', 'otros_medios', 'ventas_totales_grupo_articulos', 'subtotal_ventas_alimentos_bebidas', 'bebidas', 'almacen', 'panaderia', 'lacteos', 'carnes', 'verduleria_fruteria', 'alimentos_preparados_rotiseria', 'articulos_limpieza_perfumeria', 'indumentaria_calzado_textiles_hogar', 'electronicos_articulos_hogar', 'otros']\n"
     ]
    }
   ],
   "source": [
    "# =========================\n",
    "# 1) Carga de datos\n",
    "# =========================\n",
    "df = pd.read_csv(INPUT_CSV)\n",
    "\n",
    "# Parseo de fecha si existe la columna\n",
    "if \"indice_tiempo\" in df.columns:\n",
    "    df[\"indice_tiempo\"] = pd.to_datetime(df[\"indice_tiempo\"], dayfirst=True, errors=\"coerce\")\n",
    "\n",
    "# Nos quedamos con columnas numéricas para detección de outliers\n",
    "cols_num = df.select_dtypes(include=\"number\").columns.tolist()\n",
    "print(f\"Filas: {len(df)}  |  Columnas numéricas: {len(cols_num)}\")\n",
    "print(cols_num)"
   ]
  },
  {
   "cell_type": "code",
   "execution_count": 42,
   "id": "e18ab76b",
   "metadata": {},
   "outputs": [],
   "source": [
    "# =========================\n",
    "# Utilidad: guardar boxplots por columna\n",
    "# =========================\n",
    "def guardar_boxplots_por_columna(data, columnas, carpeta, titulo_prefijo=\"\"):\n",
    "    if not GUARDAR_BOXPLOTS:\n",
    "        return\n",
    "    Path(carpeta).mkdir(parents=True, exist_ok=True)\n",
    "    for c in columnas:\n",
    "        plt.figure()\n",
    "        data.boxplot(column=c)\n",
    "        plt.title(f\"{titulo_prefijo}{c}\")\n",
    "        plt.tight_layout()\n",
    "        plt.savefig(Path(carpeta) / f\"boxplot_{c}.png\", dpi=150)\n",
    "        plt.close()"
   ]
  },
  {
   "cell_type": "code",
   "execution_count": 43,
   "id": "989b8b31",
   "metadata": {},
   "outputs": [],
   "source": [
    "# =========================\n",
    "# 2) Boxplots iniciales\n",
    "# =========================\n",
    "guardar_boxplots_por_columna(df, cols_num, CARPETA_PLOT_INI, \"Antes - \")"
   ]
  },
  {
   "cell_type": "code",
   "execution_count": 44,
   "id": "b077b89d",
   "metadata": {},
   "outputs": [
    {
     "name": "stdout",
     "output_type": "stream",
     "text": [
      "\n",
      "=== IQR ===\n",
      "Filas después de IQR: 55 (eliminadas: 10)\n",
      "                                columna            q1            q3  \\\n",
      "20  indumentaria_calzado_textiles_hogar  1.010425e+06  2.206737e+06   \n",
      "11    subtotal_ventas_alimentos_bebidas  3.558672e+07  6.717124e+07   \n",
      "21         electronicos_articulos_hogar  2.169127e+06  6.042114e+06   \n",
      "18       alimentos_preparados_rotiseria  4.379606e+05  8.814768e+05   \n",
      "14                            panaderia  1.412394e+06  2.973192e+06   \n",
      "3                          salon_ventas  4.391419e+07  9.452455e+07   \n",
      "1             ventas_precios_constantes  2.370200e+04  2.699670e+04   \n",
      "22                                otros  3.313479e+06  7.255727e+06   \n",
      "8                      tarjetas_credito  1.362389e+07  3.371681e+07   \n",
      "15                              lacteos  3.996896e+06  1.037440e+07   \n",
      "\n",
      "             iqr           low          high  outliers_en_columna  \n",
      "20  1.196312e+06 -7.840429e+05  4.001206e+06                    4  \n",
      "11  3.158451e+07 -1.179005e+07  1.145480e+08                    4  \n",
      "21  3.872987e+06 -3.640353e+06  1.185159e+07                    4  \n",
      "18  4.435162e+05 -2.273138e+05  1.546751e+06                    4  \n",
      "14  1.560799e+06 -9.288041e+05  5.314390e+06                    4  \n",
      "3   5.061036e+07 -3.200135e+07  1.704401e+08                    3  \n",
      "1   3.294700e+03  1.875995e+04  3.193875e+04                    3  \n",
      "22  3.942249e+06 -2.599894e+06  1.316910e+07                    3  \n",
      "8   2.009292e+07 -1.651548e+07  6.385618e+07                    2  \n",
      "15  6.377506e+06 -5.569362e+06  1.994066e+07                    1  \n"
     ]
    }
   ],
   "source": [
    "# =========================\n",
    "# 3) Método IQR (Rango Intercuartílico)\n",
    "# =========================\n",
    "mask_keep_iqr = pd.Series(True, index=df.index)\n",
    "resumen_iqr = []\n",
    "\n",
    "for c in cols_num:\n",
    "    q1 = df[c].quantile(0.25)\n",
    "    q3 = df[c].quantile(0.75)\n",
    "    iqr = q3 - q1\n",
    "    low = q1 - IQR_K * iqr\n",
    "    high = q3 + IQR_K * iqr\n",
    "    col_mask = df[c].between(low, high, inclusive=\"both\")\n",
    "    mask_keep_iqr &= col_mask\n",
    "    resumen_iqr.append({\n",
    "        \"columna\": c,\n",
    "        \"q1\": q1, \"q3\": q3, \"iqr\": iqr,\n",
    "        \"low\": low, \"high\": high,\n",
    "        \"outliers_en_columna\": int((~col_mask).sum())\n",
    "    })\n",
    "\n",
    "df_iqr = df[mask_keep_iqr].copy()\n",
    "df_iqr.to_csv(OUTPUT_IQR, index=False)\n",
    "\n",
    "print(\"\\n=== IQR ===\")\n",
    "print(f\"Filas después de IQR: {len(df_iqr)} (eliminadas: {len(df)-len(df_iqr)})\")\n",
    "print(pd.DataFrame(resumen_iqr).sort_values(\"outliers_en_columna\", ascending=False).head(10))\n",
    "\n",
    "guardar_boxplots_por_columna(df_iqr, cols_num, CARPETA_PLOT_IQR, \"Después IQR - \")"
   ]
  },
  {
   "cell_type": "code",
   "execution_count": 45,
   "id": "8b7be303",
   "metadata": {},
   "outputs": [
    {
     "name": "stdout",
     "output_type": "stream",
     "text": [
      "\n",
      "=== Desviación Estándar ===\n",
      "Filas después de STD: 61 (eliminadas: 4)\n",
      "                                columna          mean           std  \\\n",
      "1             ventas_precios_constantes  2.606370e+04  4.617139e+03   \n",
      "22                                otros  5.776004e+06  3.194767e+06   \n",
      "12                              bebidas  8.878731e+06  5.823245e+06   \n",
      "20  indumentaria_calzado_textiles_hogar  1.832572e+06  1.072509e+06   \n",
      "3                          salon_ventas  7.583609e+07  4.027672e+07   \n",
      "0             ventas_precios_corrientes  7.224020e+04  4.699177e+04   \n",
      "2            ventas_totales_canal_venta  7.373840e+07  4.422329e+07   \n",
      "6                              efectivo  2.378445e+07  1.261091e+07   \n",
      "5             ventas_totales_medio_pago  7.423803e+07  4.356599e+07   \n",
      "4                       canales_on_line  2.077902e+06  1.834110e+06   \n",
      "\n",
      "             low          high  outliers_en_columna  \n",
      "1   1.221228e+04  3.991511e+04                    2  \n",
      "22 -3.808299e+06  1.536031e+07                    1  \n",
      "12 -8.591004e+06  2.634847e+07                    1  \n",
      "20 -1.384956e+06  5.050100e+06                    1  \n",
      "3  -4.499406e+07  1.966662e+08                    0  \n",
      "0  -6.873513e+04  2.132155e+05                    0  \n",
      "2  -5.893147e+07  2.064083e+08                    0  \n",
      "6  -1.404827e+07  6.161717e+07                    0  \n",
      "5  -5.645993e+07  2.049360e+08                    0  \n",
      "4  -3.424429e+06  7.580233e+06                    0  \n"
     ]
    }
   ],
   "source": [
    "# =========================\n",
    "# 4) Método Desviación Estándar\n",
    "# =========================\n",
    "mask_keep_std = pd.Series(True, index=df.index)\n",
    "resumen_std = []\n",
    "\n",
    "for c in cols_num:\n",
    "    mean = df[c].mean()\n",
    "    std  = df[c].std(ddof=0)\n",
    "    if std == 0 or np.isnan(std):\n",
    "        col_mask = pd.Series(True, index=df.index)  # sin variación → no se filtra por esta col\n",
    "        outliers_count = 0\n",
    "        low = high = np.nan\n",
    "    else:\n",
    "        z = (df[c] - mean) / std\n",
    "        col_mask = z.abs() <= Z_THRESHOLD\n",
    "        outliers_count = int((~col_mask).sum())\n",
    "        low = mean - Z_THRESHOLD * std\n",
    "        high = mean + Z_THRESHOLD * std\n",
    "\n",
    "    mask_keep_std &= col_mask\n",
    "    resumen_std.append({\n",
    "        \"columna\": c,\n",
    "        \"mean\": mean, \"std\": std,\n",
    "        \"low\": low, \"high\": high,\n",
    "        \"outliers_en_columna\": outliers_count\n",
    "    })\n",
    "\n",
    "df_std = df[mask_keep_std].copy()\n",
    "df_std.to_csv(OUTPUT_STD, index=False)\n",
    "\n",
    "print(\"\\n=== Desviación Estándar ===\")\n",
    "print(f\"Filas después de STD: {len(df_std)} (eliminadas: {len(df)-len(df_std)})\")\n",
    "print(pd.DataFrame(resumen_std).sort_values(\"outliers_en_columna\", ascending=False).head(10))\n",
    "\n",
    "guardar_boxplots_por_columna(df_std, cols_num, CARPETA_PLOT_STD, \"Después STD - \")"
   ]
  },
  {
   "cell_type": "code",
   "execution_count": 46,
   "id": "e4db583c",
   "metadata": {},
   "outputs": [
    {
     "name": "stdout",
     "output_type": "stream",
     "text": [
      "\n",
      "CSV generados:\n",
      " - Ventas_sin_outliers_IQR.csv\n",
      " - Ventas_sin_outliers_STD.csv\n",
      "\n",
      "Boxplots guardados en:\n",
      " - Boxplots_Antes/\n",
      " - Boxplots_Después_IQR/\n",
      " - Boxplots_Después_STD/\n"
     ]
    }
   ],
   "source": [
    "# =========================\n",
    "# 5) Resumen final\n",
    "# =========================\n",
    "print(\"\\nCSV generados:\")\n",
    "print(f\" - {OUTPUT_IQR}\")\n",
    "print(f\" - {OUTPUT_STD}\")\n",
    "if GUARDAR_BOXPLOTS:\n",
    "    print(\"\\nBoxplots guardados en:\")\n",
    "    print(f\" - {CARPETA_PLOT_INI}/\")\n",
    "    print(f\" - {CARPETA_PLOT_IQR}/\")\n",
    "    print(f\" - {CARPETA_PLOT_STD}/\")"
   ]
  }
 ],
 "metadata": {
  "kernelspec": {
   "display_name": "Python 3",
   "language": "python",
   "name": "python3"
  },
  "language_info": {
   "codemirror_mode": {
    "name": "ipython",
    "version": 3
   },
   "file_extension": ".py",
   "mimetype": "text/x-python",
   "name": "python",
   "nbconvert_exporter": "python",
   "pygments_lexer": "ipython3",
   "version": "3.13.6"
  }
 },
 "nbformat": 4,
 "nbformat_minor": 5
}
